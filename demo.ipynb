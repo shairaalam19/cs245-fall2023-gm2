{
 "cells": [
  {
   "cell_type": "code",
   "execution_count": 1,
   "metadata": {},
   "outputs": [
    {
     "name": "stdout",
     "output_type": "stream",
     "text": [
      "Collecting git+https://github.com/openai/glide-text2im\n",
      "  Cloning https://github.com/openai/glide-text2im to c:\\users\\user\\appdata\\local\\temp\\pip-req-build-iwl57mq4\n",
      "  Resolved https://github.com/openai/glide-text2im to commit 69b530740eb6cef69442d6180579ef5ba9ef063e\n",
      "  Preparing metadata (setup.py): started\n",
      "  Preparing metadata (setup.py): finished with status 'done'\n",
      "Requirement already satisfied: Pillow in c:\\python310\\lib\\site-packages (from glide-text2im==0.0.0) (10.0.1)\n",
      "Requirement already satisfied: attrs in c:\\python310\\lib\\site-packages (from glide-text2im==0.0.0) (23.1.0)\n",
      "Requirement already satisfied: torch in c:\\users\\user\\appdata\\roaming\\python\\python310\\site-packages (from glide-text2im==0.0.0) (2.1.1)\n",
      "Requirement already satisfied: filelock in c:\\python310\\lib\\site-packages (from glide-text2im==0.0.0) (3.13.1)\n",
      "Requirement already satisfied: requests in c:\\python310\\lib\\site-packages (from glide-text2im==0.0.0) (2.28.2)\n",
      "Requirement already satisfied: tqdm in c:\\python310\\lib\\site-packages (from glide-text2im==0.0.0) (4.66.1)\n",
      "Requirement already satisfied: ftfy in c:\\python310\\lib\\site-packages (from glide-text2im==0.0.0) (6.1.1)\n",
      "Requirement already satisfied: regex in c:\\python310\\lib\\site-packages (from glide-text2im==0.0.0) (2023.10.3)\n",
      "Requirement already satisfied: numpy in c:\\python310\\lib\\site-packages (from glide-text2im==0.0.0) (1.23.5)\n",
      "Requirement already satisfied: wcwidth>=0.2.5 in c:\\users\\user\\appdata\\roaming\\python\\python310\\site-packages (from ftfy->glide-text2im==0.0.0) (0.2.5)\n",
      "Requirement already satisfied: charset-normalizer<4,>=2 in c:\\python310\\lib\\site-packages (from requests->glide-text2im==0.0.0) (2.1.1)\n",
      "Requirement already satisfied: idna<4,>=2.5 in c:\\python310\\lib\\site-packages (from requests->glide-text2im==0.0.0) (3.4)\n",
      "Requirement already satisfied: urllib3<1.27,>=1.21.1 in c:\\python310\\lib\\site-packages (from requests->glide-text2im==0.0.0) (1.26.12)\n",
      "Requirement already satisfied: certifi>=2017.4.17 in c:\\python310\\lib\\site-packages (from requests->glide-text2im==0.0.0) (2022.12.7)\n",
      "Requirement already satisfied: typing-extensions in c:\\python310\\lib\\site-packages (from torch->glide-text2im==0.0.0) (4.4.0)\n",
      "Requirement already satisfied: sympy in c:\\python310\\lib\\site-packages (from torch->glide-text2im==0.0.0) (1.11.1)\n",
      "Requirement already satisfied: networkx in c:\\python310\\lib\\site-packages (from torch->glide-text2im==0.0.0) (3.0)\n",
      "Requirement already satisfied: jinja2 in c:\\python310\\lib\\site-packages (from torch->glide-text2im==0.0.0) (3.1.2)\n",
      "Requirement already satisfied: fsspec in c:\\python310\\lib\\site-packages (from torch->glide-text2im==0.0.0) (2023.10.0)\n",
      "Requirement already satisfied: colorama in c:\\python310\\lib\\site-packages (from tqdm->glide-text2im==0.0.0) (0.4.5)\n",
      "Requirement already satisfied: MarkupSafe>=2.0 in c:\\python310\\lib\\site-packages (from jinja2->torch->glide-text2im==0.0.0) (2.1.1)\n",
      "Requirement already satisfied: mpmath>=0.19 in c:\\python310\\lib\\site-packages (from sympy->torch->glide-text2im==0.0.0) (1.2.1)\n"
     ]
    },
    {
     "name": "stderr",
     "output_type": "stream",
     "text": [
      "WARNING: Ignoring invalid distribution -ip (c:\\python310\\lib\\site-packages)\n",
      "WARNING: Ignoring invalid distribution -orch (c:\\python310\\lib\\site-packages)\n",
      "  Running command git clone --filter=blob:none --quiet https://github.com/openai/glide-text2im 'C:\\Users\\User\\AppData\\Local\\Temp\\pip-req-build-iwl57mq4'\n",
      "WARNING: Ignoring invalid distribution -ip (c:\\python310\\lib\\site-packages)\n",
      "WARNING: Ignoring invalid distribution -orch (c:\\python310\\lib\\site-packages)\n"
     ]
    }
   ],
   "source": [
    "!pip install git+https://github.com/openai/glide-text2im"
   ]
  }
 ],
 "metadata": {
  "kernelspec": {
   "display_name": "Python 3",
   "language": "python",
   "name": "python3"
  },
  "language_info": {
   "codemirror_mode": {
    "name": "ipython",
    "version": 3
   },
   "file_extension": ".py",
   "mimetype": "text/x-python",
   "name": "python",
   "nbconvert_exporter": "python",
   "pygments_lexer": "ipython3",
   "version": "3.10.8"
  }
 },
 "nbformat": 4,
 "nbformat_minor": 2
}
